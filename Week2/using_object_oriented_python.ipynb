{
 "cells": [
  {
   "cell_type": "markdown",
   "metadata": {},
   "source": [
    "# Computational Mathematics with SageMath\n",
    "\n",
    "# Using object oriented python"
   ]
  },
  {
   "cell_type": "code",
   "execution_count": 1,
   "metadata": {},
   "outputs": [],
   "source": [
    "import numpy as np\n",
    "import matplotlib.pyplot as plt"
   ]
  },
  {
   "cell_type": "markdown",
   "metadata": {},
   "source": [
    "## Exercice 1\n",
    "\n",
    "*Create a python class with name sphere created by the radius and methods to print volume\n",
    "and surface area.*"
   ]
  },
  {
   "cell_type": "code",
   "execution_count": 2,
   "metadata": {},
   "outputs": [
    {
     "name": "stdout",
     "output_type": "stream",
     "text": [
      "Volume = 65.44984694978736\n",
      "Surface area = 78.53981633974483\n"
     ]
    }
   ],
   "source": [
    "class Sphere:\n",
    "    def __init__(self, radius):\n",
    "        self.radius = radius\n",
    "    def volume(self):\n",
    "        return 4/3*np.pi*self.radius**3\n",
    "    def surface(self):\n",
    "        return 4*np.pi*self.radius**2\n",
    "    \n",
    "my_sphere = Sphere(2.5)\n",
    "print(f'Volume = {my_sphere.volume()}')\n",
    "print(f'Surface area = {my_sphere.surface()}')"
   ]
  },
  {
   "cell_type": "markdown",
   "metadata": {},
   "source": [
    "## Exercice 2\n",
    "\n",
    "*Write an Account class to represent a bank account initialized with account number and\n",
    "starting balance. Include deposit(amount) and withdraw(amount) methods. Withdrawals\n",
    "should only be performed if the balance is high enough. Include the account number and\n",
    "balance in the __str__() method, and include a program to test your class.*"
   ]
  },
  {
   "cell_type": "code",
   "execution_count": 3,
   "metadata": {},
   "outputs": [
    {
     "name": "stdout",
     "output_type": "stream",
     "text": [
      "Account number CB0067 has balance of $1000\n",
      "\n",
      "Withdraw of $1500\n",
      "Not enough balance to withdraw amount of $1500\n",
      "-------------------------\n",
      "\n",
      "Withdraw of $1000\n",
      "Your updated balance is $0\n",
      "-------------------------\n",
      "\n",
      "Deposit of $12500\n",
      "Your updated balance is $12500\n",
      "-------------------------\n",
      "\n",
      "Withdraw of $2500\n",
      "Your updated balance is $10000\n",
      "-------------------------\n",
      "\n",
      "Withdraw of $5000\n",
      "Your updated balance is $5000\n",
      "-------------------------\n",
      "\n",
      "Withdraw of $5001\n",
      "Not enough balance to withdraw amount of $5001\n",
      "-------------------------\n",
      "\n",
      "Withdraw of $5000\n",
      "Your updated balance is $0\n",
      "-------------------------\n",
      "Account number CB0067 has balance of $0\n"
     ]
    }
   ],
   "source": [
    "class Account:\n",
    "    def __init__(self, account_number, starting_balance):\n",
    "        self.account_number = account_number\n",
    "        self.balance = starting_balance\n",
    "    def deposit(self, amount):\n",
    "        print()\n",
    "        print(f'Deposit of ${amount}')\n",
    "        self.balance += amount\n",
    "        print(f'Your updated balance is ${self.balance}')\n",
    "        print('-------------------------')\n",
    "    def withdraw(self, amount):\n",
    "        print()\n",
    "        print(f'Withdraw of ${amount}')\n",
    "        if (self.balance-amount<0):\n",
    "            print(f'Not enough balance to withdraw amount of ${amount}')\n",
    "            print('-------------------------')\n",
    "        else:\n",
    "            self.balance -= amount\n",
    "            print(f'Your updated balance is ${self.balance}')\n",
    "            print('-------------------------')\n",
    "    def __str__(self):\n",
    "         return f'Account number {self.account_number} has balance of ${self.balance}'\n",
    "\n",
    "my_account = Account('CB0067', 1000)\n",
    "print(my_account)\n",
    "my_account.withdraw(1500)\n",
    "my_account.withdraw(1000)\n",
    "my_account.deposit(12500)\n",
    "my_account.withdraw(2500)\n",
    "my_account.withdraw(5000)\n",
    "my_account.withdraw(5001)\n",
    "my_account.withdraw(5000)\n",
    "print(my_account)"
   ]
  },
  {
   "cell_type": "markdown",
   "metadata": {},
   "source": [
    "## Exercice 3\n",
    "\n",
    "*Create a python class with name rationals with special methods methods to add, subtract,\n",
    "multiply and divide rational numbers.*"
   ]
  },
  {
   "cell_type": "code",
   "execution_count": 4,
   "metadata": {},
   "outputs": [
    {
     "name": "stdout",
     "output_type": "stream",
     "text": [
      "Rational(5, 6)\n",
      "Rational(1, 6)\n",
      "Rational(1, 6)\n",
      "Rational(3, 2)\n",
      "\n",
      "Rational(-5133, 412)\n",
      "Rational(-5373, 412)\n",
      "Rational(-1530, 412)\n",
      "Rational(-5253, 120)\n"
     ]
    }
   ],
   "source": [
    "class Rational:\n",
    "    def __init__(self, p, q):\n",
    "        self.numerator = p\n",
    "        self.denominator = q\n",
    "    def __str__(self):\n",
    "        return f'Rational({self.numerator}, {self.denominator})'\n",
    "    def __add__(self, r):\n",
    "        num = self.numerator*r.denominator+self.denominator*r.numerator\n",
    "        den = self.denominator*r.denominator\n",
    "        return Rational(num, den)\n",
    "    def __sub__(self, r):\n",
    "        num = self.numerator*r.denominator-self.denominator*r.numerator\n",
    "        den = self.denominator*r.denominator\n",
    "        return Rational(num, den)\n",
    "    def __mul__(self, r):\n",
    "        num = self.numerator*r.numerator\n",
    "        den = self.denominator*r.denominator\n",
    "        return Rational(num, den)\n",
    "    def __truediv__(self, r):\n",
    "        num = self.numerator*r.denominator\n",
    "        den = self.denominator*r.numerator\n",
    "        return Rational(num, den)\n",
    "\n",
    "r1 = Rational(1,2)\n",
    "r2 = Rational(1,3)\n",
    "s = r1+r2\n",
    "d = r1-r2\n",
    "m = r1*r2\n",
    "dv = r1/r2\n",
    "print(s)\n",
    "print(d)\n",
    "print(m)\n",
    "print(dv)\n",
    "\n",
    "print()\n",
    "\n",
    "r1 = Rational(-51,4)\n",
    "r2 = Rational(30,103)\n",
    "s = r1+r2\n",
    "d = r1-r2\n",
    "m = r1*r2\n",
    "dv = r1/r2\n",
    "print(s)\n",
    "print(d)\n",
    "print(m)\n",
    "print(dv)"
   ]
  },
  {
   "cell_type": "markdown",
   "metadata": {},
   "source": [
    "## Exercice 4\n",
    "\n",
    "*Create a class Country that stores the name of the country, its population, and its area. Then\n",
    "write a program that reads set of countries and prints (i) the country with the largest area, (ii) the country with the largest population, (iii) the country with the largest population density.*"
   ]
  },
  {
   "cell_type": "code",
   "execution_count": 5,
   "metadata": {},
   "outputs": [
    {
     "name": "stdout",
     "output_type": "stream",
     "text": [
      "Germany\n",
      "\n",
      "France\n",
      "\n",
      "Netherlands\n"
     ]
    }
   ],
   "source": [
    "class Country:\n",
    "    def __init__(self, name, population, area):\n",
    "        self.name = name\n",
    "        self.population = population\n",
    "        self.area = area\n",
    "    def get_name(self):\n",
    "        return self.name\n",
    "    def get_population(self):\n",
    "        return self.population\n",
    "    def get_area(self):\n",
    "        return self.area\n",
    "    \n",
    "ten_eu_members = [Country('Germany', 83166711, 357386), Country('France', 67098824, 643801), Country('Italy', 60244639, 301338),\\\n",
    "                        Country('Spain', 47329981, 511015), Country('Poland', 37958138, 312679), Country('Romania', 19317984, 238397), \\\n",
    "                        Country('Netherlands', 17407585, 41526), Country('Belgium', 11549888, 30528), Country('Greece', 10709739, 131940), \\\n",
    "                        Country('Czech Republic', 10693939,78866)]\n",
    "\n",
    "by_pop = [(country.get_population(), country.get_name()) for country in ten_eu_members]\n",
    "by_area = [(country.get_area(), country.get_name()) for country in ten_eu_members]\n",
    "by_pop_density = [(country.get_population()/country.get_area(), country.get_name()) for country in ten_eu_members]\n",
    "\n",
    "print(sorted(by_pop)[-1][-1])\n",
    "print()\n",
    "print(sorted(by_area)[-1][-1])\n",
    "print()\n",
    "print(sorted(by_pop_density)[-1][-1])"
   ]
  },
  {
   "cell_type": "code",
   "execution_count": null,
   "metadata": {},
   "outputs": [],
   "source": []
  }
 ],
 "metadata": {
  "kernelspec": {
   "display_name": "Python 3",
   "language": "python",
   "name": "python3"
  },
  "language_info": {
   "codemirror_mode": {
    "name": "ipython",
    "version": 3
   },
   "file_extension": ".py",
   "mimetype": "text/x-python",
   "name": "python",
   "nbconvert_exporter": "python",
   "pygments_lexer": "ipython3",
   "version": "3.8.5"
  }
 },
 "nbformat": 4,
 "nbformat_minor": 4
}
