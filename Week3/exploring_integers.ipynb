{
 "cells": [
  {
   "cell_type": "markdown",
   "metadata": {},
   "source": [
    "#  Computational Mathematics with SageMath\n",
    "\n",
    "# Exploring integers"
   ]
  },
  {
   "cell_type": "markdown",
   "metadata": {},
   "source": [
    "## Exercise 1\n",
    "\n",
    "Find the lcm of any two integers $a$ and $b$ and hence verify that $lcm(a, b) \\times gcd(a, b) = a \\times b$."
   ]
  },
  {
   "cell_type": "code",
   "execution_count": 1,
   "metadata": {},
   "outputs": [
    {
     "name": "stdout",
     "output_type": "stream",
     "text": [
      "a = 634844\n",
      "b = 754416\n",
      "LCM = 119734117776\n",
      "GCD = 4\n",
      "119734117776 x 4 = 634844 x 754416\n"
     ]
    }
   ],
   "source": [
    "a = randint(-1000000, 1000000)\n",
    "b = randint(-1000000, 1000000)\n",
    "\n",
    "print(f'a = {a}')\n",
    "print(f'b = {b}')\n",
    "print(f'LCM = {lcm(a,b)}')\n",
    "print(f'GCD = {gcd(a,b)}')\n",
    "print(f'{lcm(a,b)} x {gcd(a,b)} = {a} x {b}')"
   ]
  },
  {
   "cell_type": "markdown",
   "metadata": {},
   "source": [
    "## Exercise 2\n",
    "\n",
    "Let $d$ be the gcd of three integers $a$, $b$, and $c$. Find integers $p$, $q$,$r$ such that $d = pa + qb + rc$."
   ]
  },
  {
   "cell_type": "code",
   "execution_count": 2,
   "metadata": {},
   "outputs": [
    {
     "name": "stdout",
     "output_type": "stream",
     "text": [
      "a = -2513484567395710\n",
      "b = -6870582631567770\n",
      "c = -1368289720523756\n",
      "GCD = 2\n",
      "35733354573364530384579004457 x -2513484567395710 + -13072433602466708546976422748 x -6870582631567770 + -2 x -1368289720523756 = 2\n"
     ]
    }
   ],
   "source": [
    "largest_int = 10000000000000000\n",
    "\n",
    "a = randint(-largest_int, largest_int)\n",
    "b = randint(-largest_int, largest_int)\n",
    "c = randint(-largest_int, largest_int)\n",
    "\n",
    "print(f'a = {a}')\n",
    "print(f'b = {b}')\n",
    "print(f'c = {c}')\n",
    "\n",
    "d1, p1, q1 = xgcd(a,b)\n",
    "d2, p2, q2 = xgcd(d1,c)\n",
    "\n",
    "d , p, q, r = d2, p2*p1, p2*q1, q2\n",
    "\n",
    "\n",
    "print(f'GCD = {gcd([a,b,c])}')\n",
    "print(f'{p} x {a} + {q} x {b} + {r} x {c} = {d}')"
   ]
  },
  {
   "cell_type": "markdown",
   "metadata": {},
   "source": [
    "## Exercise 3\n",
    "\n",
    "Find the factors of sum of digits of $1275!$."
   ]
  },
  {
   "cell_type": "code",
   "execution_count": 3,
   "metadata": {},
   "outputs": [
    {
     "data": {
      "text/plain": [
       "2^3 * 3^5 * 7"
      ]
     },
     "execution_count": 3,
     "metadata": {},
     "output_type": "execute_result"
    }
   ],
   "source": [
    "n = factorial(1275)\n",
    "\n",
    "factor(sum(n.digits()))"
   ]
  },
  {
   "cell_type": "markdown",
   "metadata": {},
   "source": [
    "## Exercise 4\n",
    "\n",
    "Let $d = 12$. Find how many integers are there strictly between $n = 62$ and $m = 672$ which are co-prime to $d$."
   ]
  },
  {
   "cell_type": "code",
   "execution_count": 4,
   "metadata": {},
   "outputs": [
    {
     "data": {
      "text/plain": [
       "203"
      ]
     },
     "execution_count": 4,
     "metadata": {},
     "output_type": "execute_result"
    }
   ],
   "source": [
    "d = 12\n",
    "n = 62\n",
    "m = 672\n",
    "\n",
    "len([True for k in range(n+1, m) if gcd(d, k)==1])"
   ]
  },
  {
   "cell_type": "markdown",
   "metadata": {},
   "source": [
    "## Exercise 5\n",
    "\n",
    "Find a positive integer $n$ such that the number of primes between $2$ and n is $10000$."
   ]
  },
  {
   "cell_type": "code",
   "execution_count": 5,
   "metadata": {},
   "outputs": [
    {
     "name": "stdout",
     "output_type": "stream",
     "text": [
      "104729\n"
     ]
    }
   ],
   "source": [
    "goal = 10000\n",
    "\n",
    "n = primes_first_n(goal)[-1]\n",
    "    \n",
    "print(n)"
   ]
  },
  {
   "cell_type": "markdown",
   "metadata": {},
   "source": [
    "## Exercise 6\n",
    "\n",
    "Let $n = 562$. Find the number of integers $k$ between $1$ and $n$ which are co-prime to $n$. If this\n",
    "number is $k$, then $k$ is called the Euler-phi function of $n$, denoted by $φ(n)$. Verify this using\n",
    "the inbuilt SageMath function ‘euler_phi(n)’."
   ]
  },
  {
   "cell_type": "code",
   "execution_count": 6,
   "metadata": {},
   "outputs": [
    {
     "name": "stdout",
     "output_type": "stream",
     "text": [
      "280\n",
      "280\n"
     ]
    }
   ],
   "source": [
    "n = 562\n",
    "\n",
    "k = len([True for i in range(1,n+1) if gcd(i,n)==1])\n",
    "\n",
    "print(k)\n",
    "\n",
    "print(euler_phi(n))"
   ]
  },
  {
   "cell_type": "code",
   "execution_count": null,
   "metadata": {},
   "outputs": [],
   "source": []
  }
 ],
 "metadata": {
  "kernelspec": {
   "display_name": "SageMath 9.2",
   "language": "sage",
   "name": "sagemath"
  },
  "language_info": {
   "codemirror_mode": {
    "name": "ipython",
    "version": 3
   },
   "file_extension": ".py",
   "mimetype": "text/x-python",
   "name": "python",
   "nbconvert_exporter": "python",
   "pygments_lexer": "ipython3",
   "version": "3.7.7"
  }
 },
 "nbformat": 4,
 "nbformat_minor": 4
}
