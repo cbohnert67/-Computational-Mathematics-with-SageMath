{
 "cells": [
  {
   "cell_type": "markdown",
   "metadata": {},
   "source": [
    "# Computational Mathematics with SageMath\n",
    "\n",
    "# Basics of solving equations"
   ]
  },
  {
   "cell_type": "markdown",
   "metadata": {},
   "source": [
    "## Exercise 1\n",
    "\n",
    "*Find roots of $x^3 − 2x^2 − 5x + 6 = 0$ for $x$.*"
   ]
  },
  {
   "cell_type": "code",
   "execution_count": 1,
   "metadata": {},
   "outputs": [
    {
     "name": "stdout",
     "output_type": "stream",
     "text": [
      "x = 3\n",
      "x = -2\n",
      "x = 1\n"
     ]
    }
   ],
   "source": [
    "x = var('x')\n",
    "\n",
    "eqn = x**3 - 2*x**2 - 5*x + 6\n",
    "\n",
    "sol = solve(eqn, x)\n",
    "\n",
    "for s in sol:\n",
    "    print(f'x = {s.rhs()}')"
   ]
  },
  {
   "cell_type": "markdown",
   "metadata": {},
   "source": [
    "## Exercise 2\n",
    "\n",
    "*Solve the system of non linear equations $x^2+y^2=4$ and $y=x^2-2$ for $x$ and $y$.*"
   ]
  },
  {
   "cell_type": "code",
   "execution_count": 2,
   "metadata": {},
   "outputs": [
    {
     "name": "stdout",
     "output_type": "stream",
     "text": [
      "x = -sqrt(3) and y = 1\n",
      "x = sqrt(3) and y = 1\n",
      "x = 0 and y = -2\n"
     ]
    }
   ],
   "source": [
    "x, y = var('x y')\n",
    "\n",
    "eqn1 = x**2 + y**2 == 4\n",
    "eqn2 = y == x**2 - 2\n",
    "\n",
    "sol = solve([eqn1, eqn2], [x,y])\n",
    "\n",
    "for s in sol:\n",
    "    print(f'x = {s[0].rhs()} and y = {s[1].rhs()}')"
   ]
  },
  {
   "cell_type": "markdown",
   "metadata": {},
   "source": [
    "## Exercise 3\n",
    "\n",
    "*Define a three linear equations system in variables $x$, $y$, $z$ and solve it.*"
   ]
  },
  {
   "cell_type": "code",
   "execution_count": 3,
   "metadata": {},
   "outputs": [
    {
     "name": "stdout",
     "output_type": "stream",
     "text": [
      "x = 27/2 and y = -5/2 and z = 10\n"
     ]
    }
   ],
   "source": [
    "x, y, z = var('x y z')\n",
    "\n",
    "eqn1 = 2*x + 6*y - z == 2\n",
    "eqn2 = -5*x -3*y + 7*z == 10\n",
    "eqn3 = x + y - z == 1\n",
    "\n",
    "sol = solve([eqn1, eqn2, eqn3], [x, y, z])\n",
    "\n",
    "for s in sol:\n",
    "    print(f'x = {s[0].rhs()} and y = {s[1].rhs()} and z = {s[2].rhs()}')"
   ]
  },
  {
   "cell_type": "markdown",
   "metadata": {},
   "source": [
    "## Exercise 4\n",
    "\n",
    "*How many solutions does $2x − 3y + 3z = 5$ and $x − y + z = 4$ have? Find at least four different solutions.*"
   ]
  },
  {
   "cell_type": "code",
   "execution_count": 4,
   "metadata": {},
   "outputs": [
    {
     "name": "stdout",
     "output_type": "stream",
     "text": [
      "x = 7 and y = 3 and z = 0\n",
      "x = 7 and y = 4 and z = 1\n",
      "x = 7 and y = 5 and z = 2\n",
      "x = 7 and y = 6 and z = 3\n",
      "x = 7 and y = 7 and z = 4\n",
      "x = 7 and y = 8 and z = 5\n",
      "x = 7 and y = 9 and z = 6\n",
      "x = 7 and y = 10 and z = 7\n",
      "x = 7 and y = 11 and z = 8\n",
      "x = 7 and y = 12 and z = 9\n"
     ]
    }
   ],
   "source": [
    "x, y = var('x y')\n",
    "\n",
    "eqn1 = 2*x - 3*y + 3*z == 5\n",
    "eqn2 = x -y + z == 4\n",
    "\n",
    "sol = solve([eqn1, eqn2], [x, y])\n",
    "\n",
    "for k in range(10):\n",
    "    print(f'x = {sol[0][0].rhs()} and y = {sol[0][1].substitute(z=k).rhs()} and z = {k}')"
   ]
  },
  {
   "cell_type": "code",
   "execution_count": null,
   "metadata": {},
   "outputs": [],
   "source": []
  }
 ],
 "metadata": {
  "kernelspec": {
   "display_name": "SageMath 9.2",
   "language": "sage",
   "name": "sagemath"
  },
  "language_info": {
   "codemirror_mode": {
    "name": "ipython",
    "version": 3
   },
   "file_extension": ".py",
   "mimetype": "text/x-python",
   "name": "python",
   "nbconvert_exporter": "python",
   "pygments_lexer": "ipython3",
   "version": "3.7.7"
  }
 },
 "nbformat": 4,
 "nbformat_minor": 4
}
