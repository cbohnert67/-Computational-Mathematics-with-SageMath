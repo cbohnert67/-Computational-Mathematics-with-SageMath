{
 "cells": [
  {
   "cell_type": "markdown",
   "metadata": {},
   "source": [
    "# Computational Mathematics with SageMath\n",
    "\n",
    "# Constrained optimization"
   ]
  },
  {
   "cell_type": "markdown",
   "metadata": {},
   "source": [
    "## Exercise 1\n",
    "\n",
    "*Find the minimum and maximum $f(x, y) = xy + yz$ on the unit sphere $x^2+y^2+z^2=1$.*\n",
    "\n"
   ]
  },
  {
   "cell_type": "code",
   "execution_count": 1,
   "metadata": {},
   "outputs": [
    {
     "name": "stdout",
     "output_type": "stream",
     "text": [
      "[{x: 1/2, y: -1/2*sqrt(2), z: 1/2, lam: -1/2*sqrt(2)}, {x: 1/2, y: 1/2*sqrt(2), z: 1/2, lam: 1/2*sqrt(2)}, {x: -1/2, y: 1/2*sqrt(2), z: -1/2, lam: -1/2*sqrt(2)}, {x: -1/2, y: -1/2*sqrt(2), z: -1/2, lam: 1/2*sqrt(2)}, {x: -1/2*sqrt(2), y: 0, z: 1/2*sqrt(2), lam: 0}, {x: 1/2*sqrt(2), y: 0, z: -1/2*sqrt(2), lam: 0}]\n"
     ]
    }
   ],
   "source": [
    "x, y, z, lam = var('x y z lam')\n",
    "\n",
    "f(x,y,z) = x*y+y*z\n",
    "g(x,y,z) = x**2+y**2+z**2-1\n",
    "\n",
    "fx=f.diff(x)\n",
    "fy=f.diff(y)\n",
    "fz=f.diff(z)\n",
    "gx=g.diff(x)\n",
    "gy=g.diff(y)\n",
    "gz=g.diff(z)\n",
    "\n",
    "sol=solve([fx==lam*gx, fy==lam*gy, fz==lam*gz, g==0],x,y,z,lam,solution_dict=True)\n",
    "print(sol)"
   ]
  },
  {
   "cell_type": "code",
   "execution_count": 2,
   "metadata": {},
   "outputs": [
    {
     "name": "stdout",
     "output_type": "stream",
     "text": [
      "6\n",
      "At (1/2, -1/2*sqrt(2), 1/2) the function value is -1/2*sqrt(2)\n",
      "At (1/2, 1/2*sqrt(2), 1/2) the function value is 1/2*sqrt(2)\n",
      "At (-1/2, 1/2*sqrt(2), -1/2) the function value is -1/2*sqrt(2)\n",
      "At (-1/2, -1/2*sqrt(2), -1/2) the function value is 1/2*sqrt(2)\n",
      "At (-1/2*sqrt(2), 0, 1/2*sqrt(2)) the function value is 0\n",
      "At (1/2*sqrt(2), 0, -1/2*sqrt(2)) the function value is 0\n"
     ]
    }
   ],
   "source": [
    "n = len(sol)\n",
    "print(n)\n",
    "for j in range(n):\n",
    "    print(f\"At {(sol[j][x], sol[j][y], sol[j][z])} the function value is {f(sol[j][x],sol[j][y],sol[j][z])}\")"
   ]
  },
  {
   "cell_type": "markdown",
   "metadata": {},
   "source": [
    "## Exercise 2\n",
    "\n",
    "*Find the minimizer and maximizer of $f(x_1, x_2) = x_1x_2^3$ subjected to $2x_1 + 3x_2 = 4$.*"
   ]
  },
  {
   "cell_type": "code",
   "execution_count": 3,
   "metadata": {},
   "outputs": [
    {
     "name": "stdout",
     "output_type": "stream",
     "text": [
      "[{x: 1/2, y: 1, lam: 1/2}, {x: 2, y: 0, lam: 0}]\n"
     ]
    }
   ],
   "source": [
    "x, y, lam = var('x y lam')\n",
    "\n",
    "f(x,y) = x*y**3\n",
    "g(x,y) = 2*x+3*y-4\n",
    "\n",
    "fx=f.diff(x)\n",
    "fy=f.diff(y)\n",
    "\n",
    "gx=g.diff(x)\n",
    "gy=g.diff(y)\n",
    "\n",
    "\n",
    "sol=solve([fx==lam*gx, fy==lam*gy, g==0],x,y,lam,solution_dict=True)\n",
    "print(sol)"
   ]
  },
  {
   "cell_type": "code",
   "execution_count": 4,
   "metadata": {},
   "outputs": [
    {
     "name": "stdout",
     "output_type": "stream",
     "text": [
      "2\n",
      "At (1/2, 1) the function value is 1/2\n",
      "At (2, 0) the function value is 0\n"
     ]
    }
   ],
   "source": [
    "n = len(sol)\n",
    "print(n)\n",
    "for j in range(n):\n",
    "    print(f\"At {(sol[j][x], sol[j][y])} the function value is {f(sol[j][x],sol[j][y])}\")"
   ]
  },
  {
   "cell_type": "markdown",
   "metadata": {},
   "source": [
    "## Exercise 3\n",
    "\n",
    "*Find the minimizer and maximizer of $x_1^2-2x_1+x_2^2-x_3^2+4x_3$ subjected to $x_1 − x_2 + 2x_3 = 2$.*"
   ]
  },
  {
   "cell_type": "code",
   "execution_count": 5,
   "metadata": {},
   "outputs": [
    {
     "name": "stdout",
     "output_type": "stream",
     "text": [
      "[{x: 5/2, y: -3/2, z: -1, lam: 3}]\n"
     ]
    }
   ],
   "source": [
    "x, y, z, lam = var('x y z lam')\n",
    "\n",
    "f(x,y,z) = x**2-2*x+y**2-z**2+4*z\n",
    "g(x,y,z) = x-y+2*z-2\n",
    "\n",
    "fx=f.diff(x)\n",
    "fy=f.diff(y)\n",
    "fz=f.diff(z)\n",
    "gx=g.diff(x)\n",
    "gy=g.diff(y)\n",
    "gz=g.diff(z)\n",
    "\n",
    "sol=solve([fx==lam*gx, fy==lam*gy, fz==lam*gz, g==0],x,y,z,lam,solution_dict=True)\n",
    "print(sol)"
   ]
  },
  {
   "cell_type": "code",
   "execution_count": 6,
   "metadata": {},
   "outputs": [
    {
     "name": "stdout",
     "output_type": "stream",
     "text": [
      "1\n",
      "At (5/2, -3/2, -1) the function value is -3/2\n"
     ]
    }
   ],
   "source": [
    "n = len(sol)\n",
    "print(n)\n",
    "for j in range(n):\n",
    "    print(f\"At {(sol[j][x], sol[j][y], sol[j][z])} the function value is {f(sol[j][x],sol[j][y],sol[j][z])}\")"
   ]
  }
 ],
 "metadata": {
  "kernelspec": {
   "display_name": "SageMath 9.2",
   "language": "sage",
   "name": "sagemath"
  },
  "language_info": {
   "codemirror_mode": {
    "name": "ipython",
    "version": 3
   },
   "file_extension": ".py",
   "mimetype": "text/x-python",
   "name": "python",
   "nbconvert_exporter": "python",
   "pygments_lexer": "ipython3",
   "version": "3.7.7"
  }
 },
 "nbformat": 4,
 "nbformat_minor": 4
}
