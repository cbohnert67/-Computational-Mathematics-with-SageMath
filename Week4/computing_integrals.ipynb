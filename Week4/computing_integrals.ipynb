{
 "cells": [
  {
   "cell_type": "markdown",
   "metadata": {},
   "source": [
    "# Computational Mathematics with SageMath\n",
    "\n",
    "# Computing integrals"
   ]
  },
  {
   "cell_type": "markdown",
   "metadata": {},
   "source": [
    "## Exercise 1\n",
    "\n",
    "*Evaluate the following indefinite integrals.*\n",
    "\n",
    "i. $\\int \\frac{-4}{\\sqrt{1-x^{2}}} dx $ \n",
    "\n",
    "ii. $\\int 2 x^2 \\cos (2 x), dx$ \n",
    "\n",
    "iii. $\\int \\frac{2 x^{5}+x^{2}+x+1}{x^{2}-1} dx$.\n",
    "\n",
    "iv. $\\int \\sin^{5}(x) \\cos^{2} (x) dx$\n",
    "\n",
    "v. $\\int \\sin ^{5} (x) dx$"
   ]
  },
  {
   "cell_type": "code",
   "execution_count": 1,
   "metadata": {},
   "outputs": [],
   "source": [
    "x = var('x')\n",
    "\n",
    "f1(x) = -4/sqrt(1-x**2)\n",
    "f2(x) = 2*x**2*cos(2*x)\n",
    "f3(x) = (2*x**5+x**2+x+1)/(x**2-1)\n",
    "f4(x) = sin(x)**5*cos(x)**2\n",
    "f5(x) = sin(x)**5"
   ]
  },
  {
   "cell_type": "code",
   "execution_count": 2,
   "metadata": {},
   "outputs": [
    {
     "data": {
      "text/html": [
       "<html><script type=\"math/tex; mode=display\">\\newcommand{\\Bold}[1]{\\mathbf{#1}}x \\ {\\mapsto}\\ -4 \\, \\arcsin\\left(x\\right)</script></html>"
      ],
      "text/latex": [
       "\\begin{math}\n",
       "\\newcommand{\\Bold}[1]{\\mathbf{#1}}x \\ {\\mapsto}\\ -4 \\, \\arcsin\\left(x\\right)\n",
       "\\end{math}"
      ],
      "text/plain": [
       "x |--> -4*arcsin(x)"
      ]
     },
     "metadata": {},
     "output_type": "display_data"
    }
   ],
   "source": [
    "# i\n",
    "F1(x) = f1.integrate(x)\n",
    "show(F1)"
   ]
  },
  {
   "cell_type": "code",
   "execution_count": 3,
   "metadata": {},
   "outputs": [
    {
     "data": {
      "text/html": [
       "<html><script type=\"math/tex; mode=display\">\\newcommand{\\Bold}[1]{\\mathbf{#1}}x \\ {\\mapsto}\\ x \\cos\\left(2 \\, x\\right) + \\frac{1}{2} \\, {\\left(2 \\, x^{2} - 1\\right)} \\sin\\left(2 \\, x\\right)</script></html>"
      ],
      "text/latex": [
       "\\begin{math}\n",
       "\\newcommand{\\Bold}[1]{\\mathbf{#1}}x \\ {\\mapsto}\\ x \\cos\\left(2 \\, x\\right) + \\frac{1}{2} \\, {\\left(2 \\, x^{2} - 1\\right)} \\sin\\left(2 \\, x\\right)\n",
       "\\end{math}"
      ],
      "text/plain": [
       "x |--> x*cos(2*x) + 1/2*(2*x^2 - 1)*sin(2*x)"
      ]
     },
     "metadata": {},
     "output_type": "display_data"
    }
   ],
   "source": [
    "# ii\n",
    "F2(x) = f2.integrate(x)\n",
    "show(F2)"
   ]
  },
  {
   "cell_type": "code",
   "execution_count": 4,
   "metadata": {},
   "outputs": [
    {
     "data": {
      "text/html": [
       "<html><script type=\"math/tex; mode=display\">\\newcommand{\\Bold}[1]{\\mathbf{#1}}x \\ {\\mapsto}\\ \\frac{1}{2} \\, x^{4} + x^{2} + x + \\frac{1}{2} \\, \\log\\left(x + 1\\right) + \\frac{5}{2} \\, \\log\\left(x - 1\\right)</script></html>"
      ],
      "text/latex": [
       "\\begin{math}\n",
       "\\newcommand{\\Bold}[1]{\\mathbf{#1}}x \\ {\\mapsto}\\ \\frac{1}{2} \\, x^{4} + x^{2} + x + \\frac{1}{2} \\, \\log\\left(x + 1\\right) + \\frac{5}{2} \\, \\log\\left(x - 1\\right)\n",
       "\\end{math}"
      ],
      "text/plain": [
       "x |--> 1/2*x^4 + x^2 + x + 1/2*log(x + 1) + 5/2*log(x - 1)"
      ]
     },
     "metadata": {},
     "output_type": "display_data"
    }
   ],
   "source": [
    "# iii\n",
    "F3(x) = f3.integrate(x)\n",
    "show(F3)"
   ]
  },
  {
   "cell_type": "code",
   "execution_count": 5,
   "metadata": {},
   "outputs": [
    {
     "data": {
      "text/html": [
       "<html><script type=\"math/tex; mode=display\">\\newcommand{\\Bold}[1]{\\mathbf{#1}}x \\ {\\mapsto}\\ -\\frac{1}{7} \\, \\cos\\left(x\\right)^{7} + \\frac{2}{5} \\, \\cos\\left(x\\right)^{5} - \\frac{1}{3} \\, \\cos\\left(x\\right)^{3}</script></html>"
      ],
      "text/latex": [
       "\\begin{math}\n",
       "\\newcommand{\\Bold}[1]{\\mathbf{#1}}x \\ {\\mapsto}\\ -\\frac{1}{7} \\, \\cos\\left(x\\right)^{7} + \\frac{2}{5} \\, \\cos\\left(x\\right)^{5} - \\frac{1}{3} \\, \\cos\\left(x\\right)^{3}\n",
       "\\end{math}"
      ],
      "text/plain": [
       "x |--> -1/7*cos(x)^7 + 2/5*cos(x)^5 - 1/3*cos(x)^3"
      ]
     },
     "metadata": {},
     "output_type": "display_data"
    }
   ],
   "source": [
    "# iv\n",
    "F4(x) = f4.integrate(x)\n",
    "show(F4)"
   ]
  },
  {
   "cell_type": "code",
   "execution_count": 6,
   "metadata": {},
   "outputs": [
    {
     "data": {
      "text/html": [
       "<html><script type=\"math/tex; mode=display\">\\newcommand{\\Bold}[1]{\\mathbf{#1}}x \\ {\\mapsto}\\ -\\frac{1}{5} \\, \\cos\\left(x\\right)^{5} + \\frac{2}{3} \\, \\cos\\left(x\\right)^{3} - \\cos\\left(x\\right)</script></html>"
      ],
      "text/latex": [
       "\\begin{math}\n",
       "\\newcommand{\\Bold}[1]{\\mathbf{#1}}x \\ {\\mapsto}\\ -\\frac{1}{5} \\, \\cos\\left(x\\right)^{5} + \\frac{2}{3} \\, \\cos\\left(x\\right)^{3} - \\cos\\left(x\\right)\n",
       "\\end{math}"
      ],
      "text/plain": [
       "x |--> -1/5*cos(x)^5 + 2/3*cos(x)^3 - cos(x)"
      ]
     },
     "metadata": {},
     "output_type": "display_data"
    }
   ],
   "source": [
    "# v\n",
    "F5(x) = f5.integrate(x)\n",
    "show(F5)"
   ]
  },
  {
   "cell_type": "markdown",
   "metadata": {},
   "source": [
    "## Exercise 2\n",
    "\n",
    "*Evaluate the following definite integrals.*\n",
    "\n",
    "i. $\\int_{0}^{1} \\tan (x^{2}), d x$\n",
    "\n",
    "ii. $\\int_{0}^{2} \\sqrt{2 x^{3}+1} d x$\n",
    "\n",
    "iii. $\\int_{1}^{4} \\frac{3 x}{\\sqrt{3 x-1}} d x$\n",
    "\n",
    "iv. $\\int_{\\pi / 3}^{\\pi / 2} \\frac{1}{1+\\sin (x)-\\cos (x)} d x$"
   ]
  },
  {
   "cell_type": "code",
   "execution_count": 7,
   "metadata": {},
   "outputs": [],
   "source": [
    "x = var('x')\n",
    "\n",
    "f1(x) = tan(x**2)\n",
    "f2(x) = sqrt(2*x**3+1)\n",
    "f3(x) = (3*x)/sqrt(3*x-1)\n",
    "f4(x) = 1/(1+sin(x)-cos(x))"
   ]
  },
  {
   "cell_type": "code",
   "execution_count": 8,
   "metadata": {},
   "outputs": [
    {
     "data": {
      "text/html": [
       "<html><script type=\"math/tex; mode=display\">\\newcommand{\\Bold}[1]{\\mathbf{#1}}0.39841444459716535</script></html>"
      ],
      "text/latex": [
       "\\begin{math}\n",
       "\\newcommand{\\Bold}[1]{\\mathbf{#1}}0.39841444459716535\n",
       "\\end{math}"
      ],
      "text/plain": [
       "0.39841444459716535"
      ]
     },
     "metadata": {},
     "output_type": "display_data"
    }
   ],
   "source": [
    "# i\n",
    "I1 = numerical_integral(f1(x), 0,1)\n",
    "show(I1[0])"
   ]
  },
  {
   "cell_type": "code",
   "execution_count": 9,
   "metadata": {},
   "outputs": [
    {
     "data": {
      "text/html": [
       "<html><script type=\"math/tex; mode=display\">\\newcommand{\\Bold}[1]{\\mathbf{#1}}4.036592986657834</script></html>"
      ],
      "text/latex": [
       "\\begin{math}\n",
       "\\newcommand{\\Bold}[1]{\\mathbf{#1}}4.036592986657834\n",
       "\\end{math}"
      ],
      "text/plain": [
       "4.036592986657834"
      ]
     },
     "metadata": {},
     "output_type": "display_data"
    }
   ],
   "source": [
    "# ii\n",
    "I2 = numerical_integral(f2(x), 0,2)\n",
    "show(I2[0])"
   ]
  },
  {
   "cell_type": "code",
   "execution_count": 10,
   "metadata": {},
   "outputs": [
    {
     "data": {
      "text/html": [
       "<html><script type=\"math/tex; mode=display\">\\newcommand{\\Bold}[1]{\\mathbf{#1}}8.74703983402447</script></html>"
      ],
      "text/latex": [
       "\\begin{math}\n",
       "\\newcommand{\\Bold}[1]{\\mathbf{#1}}8.74703983402447\n",
       "\\end{math}"
      ],
      "text/plain": [
       "8.74703983402447"
      ]
     },
     "metadata": {},
     "output_type": "display_data"
    }
   ],
   "source": [
    "# iii\n",
    "I3 = numerical_integral(f3(x), 1,4)\n",
    "show(I3[0])"
   ]
  },
  {
   "cell_type": "code",
   "execution_count": 11,
   "metadata": {},
   "outputs": [
    {
     "data": {
      "text/html": [
       "<html><script type=\"math/tex; mode=display\">\\newcommand{\\Bold}[1]{\\mathbf{#1}}0.31190535818243575</script></html>"
      ],
      "text/latex": [
       "\\begin{math}\n",
       "\\newcommand{\\Bold}[1]{\\mathbf{#1}}0.31190535818243575\n",
       "\\end{math}"
      ],
      "text/plain": [
       "0.31190535818243575"
      ]
     },
     "metadata": {},
     "output_type": "display_data"
    }
   ],
   "source": [
    "# iv\n",
    "I4 = numerical_integral(f4(x), pi/3,pi/2)\n",
    "show(I4[0])"
   ]
  },
  {
   "cell_type": "markdown",
   "metadata": {},
   "source": [
    "## Exercise 3\n",
    "\n",
    "*Tabulate the letf and right Riemann sum for $\\int_{0}^{\\pi} \\sin(x^2) dx$ for $n = 10, 20, 30, 50, 80, 100$.*"
   ]
  },
  {
   "cell_type": "code",
   "execution_count": 12,
   "metadata": {},
   "outputs": [
    {
     "data": {
      "text/html": [
       "<div class=\"notruncate\">\n",
       "<table  class=\"table_form\">\n",
       "<tbody>\n",
       "<tr class =\"row-a\">\n",
       "<td>n</td>\n",
       "<td>Left Riemann sum</td>\n",
       "<td>Right Riemann sum</td>\n",
       "</tr>\n",
       "<tr class =\"row-b\">\n",
       "<td><script type=\"math/tex\">10</script></td>\n",
       "<td><script type=\"math/tex\">0.789972545665800</script></td>\n",
       "<td><script type=\"math/tex\">0.654789431449976</script></td>\n",
       "</tr>\n",
       "<tr class =\"row-a\">\n",
       "<td><script type=\"math/tex\">20</script></td>\n",
       "<td><script type=\"math/tex\">0.794576979981513</script></td>\n",
       "<td><script type=\"math/tex\">0.726985422873601</script></td>\n",
       "</tr>\n",
       "<tr class =\"row-b\">\n",
       "<td><script type=\"math/tex\">30</script></td>\n",
       "<td><script type=\"math/tex\">0.789958522621977</script></td>\n",
       "<td><script type=\"math/tex\">0.744897484550036</script></td>\n",
       "</tr>\n",
       "<tr class =\"row-a\">\n",
       "<td><script type=\"math/tex\">50</script></td>\n",
       "<td><script type=\"math/tex\">0.784298876879271</script></td>\n",
       "<td><script type=\"math/tex\">0.757262254036106</script></td>\n",
       "</tr>\n",
       "<tr class =\"row-b\">\n",
       "<td><script type=\"math/tex\">80</script></td>\n",
       "<td><script type=\"math/tex\">0.780370984960532</script></td>\n",
       "<td><script type=\"math/tex\">0.763473095683554</script></td>\n",
       "</tr>\n",
       "<tr class =\"row-a\">\n",
       "<td><script type=\"math/tex\">100</script></td>\n",
       "<td><script type=\"math/tex\">0.778944061317047</script></td>\n",
       "<td><script type=\"math/tex\">0.765425749895464</script></td>\n",
       "</tr>\n",
       "</tbody>\n",
       "</table>\n",
       "</div>"
      ],
      "text/plain": [
       "  n     Left Riemann sum    Right Riemann sum\n",
       "  10    0.789972545665800   0.654789431449976\n",
       "  20    0.794576979981513   0.726985422873601\n",
       "  30    0.789958522621977   0.744897484550036\n",
       "  50    0.784298876879271   0.757262254036106\n",
       "  80    0.780370984960532   0.763473095683554\n",
       "  100   0.778944061317047   0.765425749895464"
      ]
     },
     "execution_count": 12,
     "metadata": {},
     "output_type": "execute_result"
    }
   ],
   "source": [
    "def left_Riemann_sum(f,a,b,n):\n",
    "    delta = (b-a)*1.0/n\n",
    "    return delta*sum([f(x=a+delta*i) for i in range(n)])\n",
    "\n",
    "def right_Riemann_sum(f,a,b,n):\n",
    "    delta = (b-a)*1.0/n\n",
    "    return delta*sum([f(x=a+delta*(i+1)) for i in range(n)])\n",
    "\n",
    "f(x) = sin(x**2)\n",
    "\n",
    "results = [['n', 'Left Riemann sum', 'Right Riemann sum']]\n",
    "points = [[k, left_Riemann_sum(f,0,pi, k).n(), right_Riemann_sum(f, 0, pi, k).n()] for k in [10, 20, 30, 50, 80, 100]]\n",
    "for i in range(6):\n",
    "    results.append(points[i])\n",
    "\n",
    "table(rows=results)"
   ]
  }
 ],
 "metadata": {
  "kernelspec": {
   "display_name": "SageMath 9.2",
   "language": "sage",
   "name": "sagemath"
  },
  "language_info": {
   "codemirror_mode": {
    "name": "ipython",
    "version": 3
   },
   "file_extension": ".py",
   "mimetype": "text/x-python",
   "name": "python",
   "nbconvert_exporter": "python",
   "pygments_lexer": "ipython3",
   "version": "3.7.7"
  }
 },
 "nbformat": 4,
 "nbformat_minor": 4
}
