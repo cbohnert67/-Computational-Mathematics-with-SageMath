{
 "cells": [
  {
   "cell_type": "markdown",
   "metadata": {},
   "source": [
    "# Computational Mathematics with SageMath\n",
    "\n",
    "# Python as a advanced calculator"
   ]
  },
  {
   "cell_type": "markdown",
   "metadata": {
    "toc-hr-collapsed": true,
    "toc-nb-collapsed": true
   },
   "source": [
    "## Exercise 1\n",
    "\n",
    "Write python codes to input radius of a shpere and print its surface area and volume."
   ]
  },
  {
   "cell_type": "code",
   "execution_count": 1,
   "metadata": {},
   "outputs": [],
   "source": [
    "from math import *"
   ]
  },
  {
   "cell_type": "code",
   "execution_count": 2,
   "metadata": {},
   "outputs": [
    {
     "name": "stdin",
     "output_type": "stream",
     "text": [
      "Enter radius of the sphere :  1.5\n"
     ]
    },
    {
     "name": "stdout",
     "output_type": "stream",
     "text": [
      "Volume of sphere is 14.1372\n",
      "Surface area of sphere is 28.2743\n"
     ]
    }
   ],
   "source": [
    "radius = float(input(\"Enter radius of the sphere : \"))\n",
    "volume = 4./3.*pi*radius**3\n",
    "area = 4.*pi*radius**2\n",
    "print(f\"Volume of sphere is {volume:.4f}\")\n",
    "print(f\"Surface area of sphere is {area:.4f}\")"
   ]
  },
  {
   "cell_type": "markdown",
   "metadata": {
    "toc-hr-collapsed": true,
    "toc-nb-collapsed": true
   },
   "source": [
    "## Exercice 2\n",
    "\n",
    "Input a positive integer n and intger k <= n. Verify the following properties :\n",
    "\n",
    "$${}^nC_k = {}^nC_{n-k}$$\n",
    "$$ k \\cdot {}^nC_k = n \\cdot {}^{n-1}C_{k-1}$$\n",
    "$${}^n C_k + {}^nC_{k+1}={}^{n+1} C_{k+1}$$"
   ]
  },
  {
   "cell_type": "markdown",
   "metadata": {},
   "source": [
    "${}^nC_k = {}^nC_{n-k}$"
   ]
  },
  {
   "cell_type": "code",
   "execution_count": 3,
   "metadata": {},
   "outputs": [
    {
     "name": "stdin",
     "output_type": "stream",
     "text": [
      "Enter n :  12\n",
      "Enter k :  4\n"
     ]
    },
    {
     "name": "stdout",
     "output_type": "stream",
     "text": [
      "LHS is 495\n",
      "RHS is 495\n"
     ]
    },
    {
     "data": {
      "text/plain": [
       "True"
      ]
     },
     "execution_count": 3,
     "metadata": {},
     "output_type": "execute_result"
    }
   ],
   "source": [
    "n = int(input(\"Enter n : \"))\n",
    "k = int(input(\"Enter k : \"))\n",
    "print(f\"LHS is {comb(n,k)}\")\n",
    "print(f\"RHS is {comb(n,n-k)}\")\n",
    "comb(n,k)==comb(n, n-k)"
   ]
  },
  {
   "cell_type": "markdown",
   "metadata": {},
   "source": [
    "$ k \\cdot {}^nC_k = n \\cdot {}^{n-1}C_{k-1}$"
   ]
  },
  {
   "cell_type": "code",
   "execution_count": 4,
   "metadata": {},
   "outputs": [
    {
     "name": "stdin",
     "output_type": "stream",
     "text": [
      "Enter n :  124\n",
      "Enter k :  45\n"
     ]
    },
    {
     "name": "stdout",
     "output_type": "stream",
     "text": [
      "LHS is 633328106403593465148817832071837680\n",
      "RHS is 633328106403593465148817832071837680\n"
     ]
    },
    {
     "data": {
      "text/plain": [
       "True"
      ]
     },
     "execution_count": 4,
     "metadata": {},
     "output_type": "execute_result"
    }
   ],
   "source": [
    "n = int(input(\"Enter n : \"))\n",
    "k = int(input(\"Enter k : \"))\n",
    "print(f\"LHS is {k*comb(n,k)}\")\n",
    "print(f\"RHS is {n*comb(n-1,k-1)}\")\n",
    "k*comb(n,k)==n*comb(n-1, k-1)"
   ]
  },
  {
   "cell_type": "markdown",
   "metadata": {},
   "source": [
    "${}^n C_k + {}^nC_{k+1}={}^{n+1} C_{k+1}$"
   ]
  },
  {
   "cell_type": "code",
   "execution_count": 5,
   "metadata": {},
   "outputs": [
    {
     "name": "stdin",
     "output_type": "stream",
     "text": [
      "Enter n :  23\n",
      "Enter k :  14\n"
     ]
    },
    {
     "name": "stdout",
     "output_type": "stream",
     "text": [
      "LHS is 1307504\n",
      "RHS is 1307504\n"
     ]
    },
    {
     "data": {
      "text/plain": [
       "True"
      ]
     },
     "execution_count": 5,
     "metadata": {},
     "output_type": "execute_result"
    }
   ],
   "source": [
    "n = int(input(\"Enter n : \"))\n",
    "k = int(input(\"Enter k : \"))\n",
    "print(f\"LHS is {comb(n,k)+comb(n,k+1)}\")\n",
    "print(f\"RHS is {comb(n+1,k+1)}\")\n",
    "comb(n,k)+comb(n,k+1)==comb(n+1, k+1)"
   ]
  },
  {
   "cell_type": "markdown",
   "metadata": {
    "toc-hr-collapsed": true,
    "toc-nb-collapsed": true
   },
   "source": [
    "## Exercise 3\n",
    "\n",
    "Input a complex number z and explore some of the properties of z."
   ]
  },
  {
   "cell_type": "code",
   "execution_count": 6,
   "metadata": {},
   "outputs": [
    {
     "name": "stdin",
     "output_type": "stream",
     "text": [
      "Enter z :  1+5j\n",
      "Enter n :  7\n"
     ]
    },
    {
     "name": "stdout",
     "output_type": "stream",
     "text": [
      "(1+5j)^7 = (-88024-16840j)\n",
      "5.0990^7*(cos(7*1.3734)+j*sin(7*1.3734))=(-88024.0-16840.0j)\n"
     ]
    },
    {
     "data": {
      "text/plain": [
       "True"
      ]
     },
     "execution_count": 6,
     "metadata": {},
     "output_type": "execute_result"
    }
   ],
   "source": [
    "from cmath import *\n",
    "\n",
    "z = complex(input(\"Enter z : \"))\n",
    "n = int(input(\"Enter n : \"))\n",
    "\n",
    "x=z.real\n",
    "y=z.imag\n",
    "modz=abs(z)\n",
    "argz=phase(z)\n",
    "conjz=complex(x,-y)\n",
    "zn = z**n\n",
    "\n",
    "\n",
    "euler_formula_lhs = zn\n",
    "euler_formula_rhs = modz**n*complex(cos(n*argz),sin(n*argz))\n",
    "euler_formula=isclose(euler_formula_lhs,euler_formula_rhs)\n",
    "\n",
    "print(f\"{z}^{n} = {euler_formula_lhs}\")\n",
    "print(f\"{modz:.4f}^{n}*(cos({n}*{argz:.4f})+j*sin({n}*{argz:.4f}))=({euler_formula_rhs:.1f})\")\n",
    "euler_formula"
   ]
  },
  {
   "cell_type": "code",
   "execution_count": null,
   "metadata": {},
   "outputs": [],
   "source": []
  }
 ],
 "metadata": {
  "kernelspec": {
   "display_name": "Python 3",
   "language": "python",
   "name": "python3"
  },
  "language_info": {
   "codemirror_mode": {
    "name": "ipython",
    "version": 3
   },
   "file_extension": ".py",
   "mimetype": "text/x-python",
   "name": "python",
   "nbconvert_exporter": "python",
   "pygments_lexer": "ipython3",
   "version": "3.8.5"
  }
 },
 "nbformat": 4,
 "nbformat_minor": 4
}
