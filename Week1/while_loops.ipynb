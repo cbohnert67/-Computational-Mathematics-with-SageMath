{
 "cells": [
  {
   "cell_type": "markdown",
   "metadata": {},
   "source": [
    "# Computational Mathematics with SageMath\n",
    "# While loops"
   ]
  },
  {
   "cell_type": "markdown",
   "metadata": {},
   "source": [
    "## Exercice 1\n",
    "\n",
    "Write a python programme to find the value of Golden ratio correct upto 5 decimal places\n",
    "using the while loop."
   ]
  },
  {
   "cell_type": "code",
   "execution_count": 1,
   "metadata": {},
   "outputs": [
    {
     "name": "stdout",
     "output_type": "stream",
     "text": [
      "golden ratio = 1.618033988749895\n",
      "approximation after 16 iterations = 1.618034447821682\n"
     ]
    }
   ],
   "source": [
    "import math\n",
    "\n",
    "def fibonacci(n):\n",
    "    a,b = 0,1\n",
    "    f = 0\n",
    "    for k in range(2,n+1):\n",
    "        f = a+b\n",
    "        a, b = b, f\n",
    "    return f\n",
    "\n",
    "golden_ratio = (1+math.sqrt(5))/2\n",
    "result = 0\n",
    "precision = 1e-6\n",
    "k = 2\n",
    "\n",
    "while (abs(golden_ratio-result)>precision):\n",
    "    fk1, fk = fibonacci(k+1),fibonacci(k)\n",
    "    result = fk1/fk\n",
    "    k += 1\n",
    "\n",
    "print(\"golden ratio = {}\".format(golden_ratio))\n",
    "print(\"approximation after {} iterations = {}\".format(k-1, result))"
   ]
  },
  {
   "cell_type": "markdown",
   "metadata": {},
   "source": [
    "## Exercice 2\n",
    "\n",
    "Write a python programme to find the number of digits and also the sum of digits of any\n",
    "integer $n$."
   ]
  },
  {
   "cell_type": "code",
   "execution_count": 2,
   "metadata": {},
   "outputs": [
    {
     "data": {
      "text/plain": [
       "(12, 59)"
      ]
     },
     "execution_count": 2,
     "metadata": {},
     "output_type": "execute_result"
    }
   ],
   "source": [
    "def digits(n):\n",
    "    d = []\n",
    "    while (n!=0):\n",
    "        d.append(n%10)\n",
    "        n //= 10\n",
    "    return len(d), sum(d)\n",
    "\n",
    "digits(559545663254)"
   ]
  },
  {
   "cell_type": "markdown",
   "metadata": {},
   "source": [
    "## Exercice 3\n",
    "\n",
    "A function $f(x)$ has a zero in an interval $[a, b]$ if $f(a)f(b) < 0$. Write python program to\n",
    "find an interval of length $1$ in which $x^2-3x+e^{-2x}$ has a zero starting with $x_0$."
   ]
  },
  {
   "cell_type": "code",
   "execution_count": 3,
   "metadata": {},
   "outputs": [
    {
     "name": "stdout",
     "output_type": "stream",
     "text": [
      "Let's find a zero interval for function f :\n",
      "(0, 1)\n",
      "0.2275390625\n",
      "\n",
      "Let's find a zero interval for function g :\n",
      "(-2, -1)\n",
      "-1.1181640625\n"
     ]
    }
   ],
   "source": [
    "import numpy as np\n",
    "\n",
    "f = lambda x: x**2-3*x+np.exp(-2*x)\n",
    "g = lambda x: x**3-x**2+6*x+np.exp(-2*x)\n",
    "\n",
    "\n",
    "\n",
    "def find_zero_interval(f, x0):\n",
    "    a = x0\n",
    "    b = a+1\n",
    "    while(f(a)*f(b)>0):\n",
    "        a = b\n",
    "        b += 1\n",
    "    return (a,b)\n",
    "\n",
    "\n",
    "\n",
    "def zero_of_function(f, x0, a, b):\n",
    "    x=x0\n",
    "    while (b-a>1e-3):\n",
    "        x = (b+a)/2\n",
    "        if f(a)*f(x)<=0:\n",
    "            b=x\n",
    "        else: \n",
    "            a=x        \n",
    "    return x\n",
    "\n",
    "print(\"Let's find a zero interval for function f :\")\n",
    "print(find_zero_interval(f, -100))\n",
    "print(zero_of_function(f, 0, 0, 1))\n",
    "print()\n",
    "print(\"Let's find a zero interval for function g :\")\n",
    "print(find_zero_interval(g, -100))\n",
    "print(zero_of_function(g, -1.5, -2, -1))"
   ]
  },
  {
   "cell_type": "code",
   "execution_count": null,
   "metadata": {},
   "outputs": [],
   "source": []
  }
 ],
 "metadata": {
  "kernelspec": {
   "display_name": "Python 3",
   "language": "python",
   "name": "python3"
  },
  "language_info": {
   "codemirror_mode": {
    "name": "ipython",
    "version": 3
   },
   "file_extension": ".py",
   "mimetype": "text/x-python",
   "name": "python",
   "nbconvert_exporter": "python",
   "pygments_lexer": "ipython3",
   "version": "3.8.5"
  }
 },
 "nbformat": 4,
 "nbformat_minor": 4
}
