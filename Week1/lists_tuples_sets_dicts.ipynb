{
 "cells": [
  {
   "cell_type": "markdown",
   "metadata": {},
   "source": [
    "# Computational Mathematics with SageMath\n",
    "# Lists, tuples, sets and dictionaries in Python"
   ]
  },
  {
   "cell_type": "markdown",
   "metadata": {
    "toc-hr-collapsed": true,
    "toc-nb-collapsed": true
   },
   "source": [
    "## Exercice 1\n",
    "\n",
    "Try to create a list of 10 points in three dimensional space $(x_i, y_i, z_i)$ for $i = 1, . . . 10$ using zip\n",
    "command."
   ]
  },
  {
   "cell_type": "code",
   "execution_count": 1,
   "metadata": {},
   "outputs": [
    {
     "name": "stdout",
     "output_type": "stream",
     "text": [
      "[(0, 0, 0), (1, 1, 1), (2, 2, 2), (3, 3, 3), (4, 4, 4), (5, 5, 5), (6, 6, 6), (7, 7, 7), (8, 8, 8), (9, 9, 9)]\n"
     ]
    }
   ],
   "source": [
    "x = range(10)\n",
    "y = range(10)\n",
    "z = range(10)\n",
    "points=list(zip(x,y,z))\n",
    "print(points)"
   ]
  },
  {
   "cell_type": "markdown",
   "metadata": {
    "toc-hr-collapsed": true,
    "toc-nb-collapsed": true
   },
   "source": [
    "## Exercice 2\n",
    "\n",
    "Explore what happens when you apply zip(x,y) in case x and y are of different lengths."
   ]
  },
  {
   "cell_type": "code",
   "execution_count": 2,
   "metadata": {},
   "outputs": [
    {
     "name": "stdout",
     "output_type": "stream",
     "text": [
      "[(0, 0), (1, 1), (2, 2), (3, 3), (4, 4), (5, 5), (6, 6), (7, 7), (8, 8), (9, 9), (10, 10), (11, 11), (12, 12), (13, 13), (14, 14), (15, 15), (16, 16), (17, 17), (18, 18), (19, 19)]\n"
     ]
    }
   ],
   "source": [
    "x = range(20)\n",
    "y = range(25)\n",
    "points2d = list(zip(x,y))\n",
    "print(points2d)"
   ]
  },
  {
   "cell_type": "markdown",
   "metadata": {
    "toc-hr-collapsed": true,
    "toc-nb-collapsed": true
   },
   "source": [
    "## Exercice 3\n",
    "Explore methods such as insert, pop, remove, extend on a list."
   ]
  },
  {
   "cell_type": "code",
   "execution_count": 3,
   "metadata": {},
   "outputs": [
    {
     "data": {
      "text/plain": [
       "[(1, 1, 1),\n",
       " (2, 2, 2),\n",
       " (2.5, 2.5, 2.5),\n",
       " (3, 3, 3),\n",
       " (4, 4, 4),\n",
       " (5, 5, 5),\n",
       " (6, 6, 6),\n",
       " (7, 7, 7),\n",
       " (8, 8, 8),\n",
       " 'a',\n",
       " 'b',\n",
       " 'c',\n",
       " (0, 0),\n",
       " (1, 1),\n",
       " (2, 2),\n",
       " (3, 3),\n",
       " (4, 4),\n",
       " (5, 5),\n",
       " (6, 6),\n",
       " (7, 7),\n",
       " (8, 8),\n",
       " (9, 9),\n",
       " (10, 10),\n",
       " (11, 11),\n",
       " (12, 12),\n",
       " (13, 13),\n",
       " (14, 14),\n",
       " (15, 15),\n",
       " (16, 16),\n",
       " (17, 17),\n",
       " (18, 18),\n",
       " (19, 19)]"
      ]
     },
     "execution_count": 3,
     "metadata": {},
     "output_type": "execute_result"
    }
   ],
   "source": [
    "points.insert(3, (2.5,2.5,2.5))\n",
    "points.pop()\n",
    "points.remove((0,0,0))\n",
    "points.extend('abc')\n",
    "points.extend(points2d)\n",
    "points"
   ]
  },
  {
   "cell_type": "markdown",
   "metadata": {
    "toc-hr-collapsed": true,
    "toc-nb-collapsed": true
   },
   "source": [
    "## Exercice 4\n",
    "\n",
    "Define a long sentence and store it in a variable S and count how many words are there in\n",
    "S? Also count how may charaters aare there excluding spaces."
   ]
  },
  {
   "cell_type": "code",
   "execution_count": 4,
   "metadata": {},
   "outputs": [
    {
     "name": "stdout",
     "output_type": "stream",
     "text": [
      "104\n",
      "670\n"
     ]
    },
    {
     "data": {
      "text/plain": [
       "'Computational mathematics involves mathematical research in mathematics as well as in areas of science where computing plays a central and essential role, and emphasizes algorithms, numerical methods, and symbolic computations.[1]\\n\\nComputational applied mathematics consists roughly of using mathematics for allowing and improving computer computation in applied mathematics. Computational mathematics may also refer to the use of computers for mathematics itself. This includes the use of computers for mathematical computations (computer algebra), the study of what can (and cannot) be computerized in mathematics (effective methods), which computations may be done with present technology (complexity theory), and which proofs can be done on computers (proof assistants).'"
      ]
     },
     "execution_count": 4,
     "metadata": {},
     "output_type": "execute_result"
    }
   ],
   "source": [
    "sentence = \"\"\"Computational mathematics involves mathematical research in mathematics as well as in areas of science where computing plays a central and essential role, and emphasizes algorithms, numerical methods, and symbolic computations.[1]\n",
    "\n",
    "Computational applied mathematics consists roughly of using mathematics for allowing and improving computer computation in applied mathematics. Computational mathematics may also refer to the use of computers for mathematics itself. This includes the use of computers for mathematical computations (computer algebra), the study of what can (and cannot) be computerized in mathematics (effective methods), which computations may be done with present technology (complexity theory), and which proofs can be done on computers (proof assistants).\"\"\"\n",
    "\n",
    "print(len(sentence.split()))\n",
    "print(len(''.join(sentence.split())))\n",
    "sentence"
   ]
  },
  {
   "cell_type": "markdown",
   "metadata": {
    "toc-hr-collapsed": true,
    "toc-nb-collapsed": true
   },
   "source": [
    "## Exercice 5\n",
    "\n",
    "Create a nested dictionay of books with three keys as three subjects with values as dictionary\n",
    "of book title, author name, publisher and year of publications."
   ]
  },
  {
   "cell_type": "code",
   "execution_count": 5,
   "metadata": {},
   "outputs": [
    {
     "name": "stdout",
     "output_type": "stream",
     "text": [
      "{'Maths': [{'Title': 'Reality Rules: Picturing the World in Mathematics, The '\n",
      "                     'Fundamentals',\n",
      "            'Authors': ['John L. Casti'],\n",
      "            'Publisher': 'Wiley-Interscience',\n",
      "            'Year of publication': 1992},\n",
      "           {'Title': 'Reality Rules: Picturing the World in Mathematics, The '\n",
      "                     'Frontier',\n",
      "            'Authors': ['John L. Casti'],\n",
      "            'Publisher': 'Wiley-Interscience',\n",
      "            'Year of publication': 1992},\n",
      "           {'Title': 'A First Course in Mathematical Modeling',\n",
      "            'Authors': ['William P. Fox', 'Frank Giordano', 'Steven Horton'],\n",
      "            'Publisher': 'Brooks/Cole',\n",
      "            'Year of publication': 2013}],\n",
      " 'Physics': [{'Title': 'Computational Physics',\n",
      "              'Authors': ['Mark Newman'],\n",
      "              'Publisher': 'Createspace Independent Publishing Platform',\n",
      "              'Year of publication': 2012}],\n",
      " 'Chemistry': [{'Title': 'Physical Chemistry',\n",
      "                'Authors': ['Peter Atkins', ' Julio de Paula', ' James Keeler'],\n",
      "                'Publisher': 'OUP Oxford',\n",
      "                'Year of publication': 2017}]}\n"
     ]
    }
   ],
   "source": [
    "my_fav_books = {\"Maths\":[{\"Title\":\"Reality Rules: Picturing the World in Mathematics, The Fundamentals\", \"Authors\":[\"John L. Casti\"], \"Publisher\":\"Wiley-Interscience\",\"Year of publication\": 1992 }, \\\n",
    "                        {\"Title\":\"Reality Rules: Picturing the World in Mathematics, The Frontier\", \"Authors\":[\"John L. Casti\"], \"Publisher\":\"Wiley-Interscience\",\"Year of publication\": 1992 }, \\\n",
    "                        {\"Title\":\"A First Course in Mathematical Modeling\", \"Authors\":[\"William P. Fox\", \"Frank Giordano\", \"Steven Horton\"], \"Publisher\":\"Brooks/Cole\",\"Year of publication\": 2013 }], \\\n",
    "                \"Physics\":[{'Title': 'Computational Physics', 'Authors': ['Mark Newman'], 'Publisher': 'Createspace Independent Publishing Platform', 'Year of publication': 2012}], \\\n",
    "                \"Chemistry\":[{\"Title\":\"Physical Chemistry\", \"Authors\":[\"Peter Atkins\", \" Julio de Paula\", \" James Keeler\"], \"Publisher\":\"OUP Oxford\",\"Year of publication\": 2017 }]}\n",
    "import pprint\n",
    "pprint.pp(my_fav_books)"
   ]
  },
  {
   "cell_type": "code",
   "execution_count": null,
   "metadata": {},
   "outputs": [],
   "source": []
  }
 ],
 "metadata": {
  "kernelspec": {
   "display_name": "Python 3",
   "language": "python",
   "name": "python3"
  },
  "language_info": {
   "codemirror_mode": {
    "name": "ipython",
    "version": 3
   },
   "file_extension": ".py",
   "mimetype": "text/x-python",
   "name": "python",
   "nbconvert_exporter": "python",
   "pygments_lexer": "ipython3",
   "version": "3.8.5"
  }
 },
 "nbformat": 4,
 "nbformat_minor": 4
}
