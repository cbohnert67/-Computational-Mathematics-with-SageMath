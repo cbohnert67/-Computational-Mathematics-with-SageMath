{
 "cells": [
  {
   "cell_type": "markdown",
   "metadata": {},
   "source": [
    "# Computational Mathematics with SageMath\n",
    "# Functions and branching"
   ]
  },
  {
   "cell_type": "markdown",
   "metadata": {
    "toc-hr-collapsed": true,
    "toc-nb-collapsed": true
   },
   "source": [
    "## Exercice 1\n",
    "\n",
    "Input three real numbers and print the maxium of the their absolute values."
   ]
  },
  {
   "cell_type": "code",
   "execution_count": 1,
   "metadata": {},
   "outputs": [
    {
     "data": {
      "text/plain": [
       "13"
      ]
     },
     "execution_count": 1,
     "metadata": {},
     "output_type": "execute_result"
    }
   ],
   "source": [
    "def abs_value(x):\n",
    "    if x>=0:\n",
    "        return x\n",
    "    else:\n",
    "        return -x\n",
    "\n",
    "def max_of_two(x,y):\n",
    "    x = abs_value(x)\n",
    "    y= abs_value(y)\n",
    "    if x>=y:\n",
    "        return x\n",
    "    else:\n",
    "        return y\n",
    "\n",
    "def max_of_three(x,y,z):\n",
    "    return max_of_two(x, max_of_two(y,z))\n",
    "\n",
    "a, b, c = -5, 12, -13\n",
    "\n",
    "max_of_three(a,b,c)"
   ]
  },
  {
   "cell_type": "markdown",
   "metadata": {
    "toc-hr-collapsed": true,
    "toc-nb-collapsed": true
   },
   "source": [
    "## Exercice 2\n",
    "\n",
    "Suppose an investment is made to a bank by an indivisual. The bank gives an annual in-\n",
    "terest at the rate $3.4$ percent. In case case of senior citizen over the age $\\ge 60$, the return is\n",
    "calculated using compound interest otherwise using simple interest. Create a Python user\n",
    "defined function to input the investment amount, the age of the investor, and the number of\n",
    "years for which investment is made and print the returns."
   ]
  },
  {
   "cell_type": "code",
   "execution_count": 2,
   "metadata": {},
   "outputs": [
    {
     "name": "stdout",
     "output_type": "stream",
     "text": [
      "1340.0\n",
      "1404.272312008854\n"
     ]
    }
   ],
   "source": [
    "principal = 1000\n",
    "age = 61\n",
    "rate = 3.4\n",
    "years = 10\n",
    "n=12\n",
    "\n",
    "\n",
    "def invest(principal = 1000, age = 20, rate = 3.4, years = 10, n=12):\n",
    "    if age >= 60:\n",
    "        returns = principal*(1+rate/(n*100))**(years*n)\n",
    "    else:\n",
    "        returns = principal*(1+rate/100*years)\n",
    "    return returns\n",
    "                         \n",
    "print(invest(age=41))\n",
    "print(invest(age=61, n=12))"
   ]
  },
  {
   "cell_type": "markdown",
   "metadata": {
    "toc-hr-collapsed": true,
    "toc-nb-collapsed": true
   },
   "source": [
    "## Exercice 3\n",
    "\n",
    "Create an user defined function to input a list of marks (at least in five subjects)and print the\n",
    "grades ‘A’, ‘B’, ‘C’, and ‘D’ based on the average marks. You may decide the criteria for the\n",
    "grades yourself."
   ]
  },
  {
   "cell_type": "code",
   "execution_count": 3,
   "metadata": {},
   "outputs": [
    {
     "name": "stdout",
     "output_type": "stream",
     "text": [
      "['C', 'C', 'C', 'C', 'C', 'C', 'B', 'C', 'C', 'C', 'C', 'C', 'C', 'C', 'C', 'C', 'C', 'C', 'C', 'C', 'C', 'C', 'C', 'C', 'D', 'C', 'C', 'C', 'C', 'C', 'C', 'C', 'C', 'C', 'C', 'C', 'C', 'C', 'C', 'C', 'C', 'C', 'C', 'C', 'C', 'C', 'C', 'C', 'C', 'C', 'C', 'C', 'C', 'C', 'D', 'C', 'C', 'D', 'C', 'C', 'C', 'C', 'D', 'C', 'C', 'B', 'C', 'C', 'C', 'C', 'C', 'C', 'C', 'D', 'C', 'C', 'C', 'B', 'C', 'C', 'C', 'C', 'B', 'C', 'D', 'C', 'C', 'C', 'C', 'C', 'C', 'B', 'C', 'C', 'B', 'C', 'B', 'C', 'C', 'C']\n"
     ]
    }
   ],
   "source": [
    "import random\n",
    "\n",
    "def grader(avg_grade):\n",
    "    if avg_grade >= 90:\n",
    "        return 'A'\n",
    "    elif avg_grade >= 80:\n",
    "        return 'B'\n",
    "    elif avg_grade >= 70:\n",
    "        return 'C'\n",
    "    elif avg_grade >= 60:\n",
    "        return 'D'\n",
    "    else:\n",
    "        return 'F'\n",
    "def averager(grades):\n",
    "    return sum(grades)/len(grades)\n",
    "\n",
    "grades_list = []\n",
    "\n",
    "for i in range(100):\n",
    "    grades = [random.randint(50,100) for i in range(20)]\n",
    "    grades_list.append(grader(averager(grades)))\n",
    "print(grades_list)"
   ]
  },
  {
   "cell_type": "markdown",
   "metadata": {
    "toc-hr-collapsed": true,
    "toc-nb-collapsed": true
   },
   "source": [
    "## Exercice 4\n",
    "\n",
    "Create the Gaussian function with name ‘gaussian’.\n",
    "\n"
   ]
  },
  {
   "cell_type": "code",
   "execution_count": 4,
   "metadata": {},
   "outputs": [
    {
     "data": {
      "text/plain": [
       "0.3989422804014327"
      ]
     },
     "execution_count": 4,
     "metadata": {},
     "output_type": "execute_result"
    }
   ],
   "source": [
    "import math\n",
    "def gaussian(m, s, x):\n",
    "    return 1/(math.sqrt(2*math.pi)*s)*math.exp(-1/2*((x-m)/s)**2)\n",
    "gaussian(0, 1, 0)"
   ]
  },
  {
   "cell_type": "markdown",
   "metadata": {
    "toc-hr-collapsed": true,
    "toc-nb-collapsed": true
   },
   "source": [
    "## Exercice 5\n",
    "\n",
    "Write a python programme to input a point the plane, say, $(x_1, y_1)$ and check if the point is\n",
    "origin, or lies on the x-axis, y-axis or in the quadrant. Also print distance between $(x_1, y_1)$\n",
    "and $(1, −1)$."
   ]
  },
  {
   "cell_type": "code",
   "execution_count": 5,
   "metadata": {},
   "outputs": [
    {
     "name": "stdout",
     "output_type": "stream",
     "text": [
      "[('3', 24.186773244895647), ('3', 99.6393496566492), ('2', 88.58893836140041), ('3', 58.463663928973865), ('2', 51.42956348249516), ('1', 50.11985634456667), ('3', 61.40032573203501), ('4', 65.19202405202648), ('2', 88.68483523128404), ('3', 117.88553770501282), ('4', 130.11533345459327), ('2', 51.478150704935004), ('2', 76.94153624668537), ('3', 73.43704787094863), ('1', 140.0142849854971), ('3', 115.43396380615195), ('3', 13.0), ('2', 127.00393694685216), ('1', 101.11874208078342), ('2', 49.8196748283246), ('1', 120.61509026651682), ('Oy', 46.010868281309364), ('1', 101.0), ('2', 102.95630140987001), ('4', 70.76722405181653), ('1', 103.24727599312246), ('3', 122.14745187681976), ('3', 99.00505037623081), ('4', 127.40486646906389), ('1', 81.61494961096282), ('4', 30.066592756745816), ('1', 70.25667228100119), ('2', 86.88498144098322), ('4', 63.13477647065839), ('3', 132.45754036671525), ('1', 118.40608092492548), ('3', 95.04735661763561), ('3', 23.53720459187964), ('1', 75.59100475585703), ('4', 47.43416490252569), ('1', 41.036569057366385), ('3', 71.61005515987263), ('3', 110.11357772772621), ('1', 80.05623023850174), ('4', 61.220911460055866), ('4', 73.76313442364011), ('2', 112.16059914247963), ('1', 59.90826320300064), ('1', 96.89685237405806), ('2', 40.11234224026316), ('1', 79.62411694957753), ('4', 77.20103626247513), ('2', 110.67971810589327), ('3', 91.21403400793103), ('4', 46.09772228646444), ('3', 32.2490309931942), ('4', 98.48857801796105), ('2', 59.16924876994806), ('1', 68.4470598345904), ('1', 52.3450093132096), ('2', 36.124783736376884), ('1', 98.40731680114035), ('1', 53.2634959423431), ('3', 68.62215385719105), ('4', 23.021728866442675), ('2', 89.67719888578144), ('3', 60.40695324215582), ('4', 100.00499987500625), ('3', 97.65244492586962), ('3', 31.32091952673165), ('1', 43.41658669218482), ('1', 88.3911760301898), ('2', 78.5175139698144), ('3', 80.65977932030313), ('3', 60.0), ('1', 64.93843238021688), ('2', 62.93647591023825), ('4', 97.73944955850733), ('2', 69.46221994724903), ('3', 51.15662224971465), ('4', 91.2633551870629), ('2', 10.0), ('3', 64.8459713474939), ('4', 48.02082881417188), ('1', 80.23091673413684), ('2', 93.1933474020544), ('Ox', 66.007575322837), ('2', 83.6301381082203), ('3', 103.4456378974), ('2', 130.59862173851607), ('2', 97.18538984847466), ('3', 30.23243291566195), ('1', 62.26556030423239), ('1', 85.0), ('2', 95.0), ('4', 69.46221994724903), ('3', 126.82271089990152), ('1', 85.61541917201598), ('4', 36.49657518178932), ('4', 108.60018416190647)]\n"
     ]
    }
   ],
   "source": [
    "def where(point):\n",
    "    if point==(0,0):\n",
    "         return 'Origin'\n",
    "    elif point[1]==0:\n",
    "         return 'Ox'\n",
    "    elif point[0]==0:\n",
    "        return 'Oy'\n",
    "    elif point[0]>0 and point[1]>0:\n",
    "        return '1' \n",
    "    elif point[0]<0 and point[1]>0:\n",
    "        return '2'\n",
    "    elif point[0]<0 and point[1]<0:\n",
    "        return '3'\n",
    "    else:\n",
    "        return '4'\n",
    "        \n",
    "def distance(point):\n",
    "    return math.sqrt((point[0]-1)**2+(point[1]+1)**2)\n",
    "\n",
    "points = [(random.randint(-100, 100), random.randint(-100, 100)) for i in range(100)]\n",
    "positions =[(where(p), distance(p)) for p in points]\n",
    "print(positions)"
   ]
  },
  {
   "cell_type": "code",
   "execution_count": null,
   "metadata": {},
   "outputs": [],
   "source": []
  }
 ],
 "metadata": {
  "kernelspec": {
   "display_name": "Python 3",
   "language": "python",
   "name": "python3"
  },
  "language_info": {
   "codemirror_mode": {
    "name": "ipython",
    "version": 3
   },
   "file_extension": ".py",
   "mimetype": "text/x-python",
   "name": "python",
   "nbconvert_exporter": "python",
   "pygments_lexer": "ipython3",
   "version": "3.8.5"
  }
 },
 "nbformat": 4,
 "nbformat_minor": 4
}
