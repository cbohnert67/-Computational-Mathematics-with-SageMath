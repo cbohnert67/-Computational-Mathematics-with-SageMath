{
 "cells": [
  {
   "cell_type": "markdown",
   "metadata": {},
   "source": [
    "# Computational Mathematics with SageMath\n",
    "# For loops"
   ]
  },
  {
   "cell_type": "markdown",
   "metadata": {},
   "source": [
    "## Exercise 1\n",
    "\n",
    "Write a Python programme to find the n-th Fibonacci number $F_n$ where $F_0 = 0$, $F_1 = 1$ and\n",
    "$F_{n+1} = F_n + F_{n−1}$ for $n = 1, 2, 3,...$\n",
    "\n",
    "Print the ratios $\\frac{F_{n+1}}{Fn}$ for $n$ from $10$ to $50$. What do you observe? As $n$ becomes large the ratios tend towards a number, known as the Golden ratio."
   ]
  },
  {
   "cell_type": "code",
   "execution_count": 1,
   "metadata": {},
   "outputs": [
    {
     "name": "stdout",
     "output_type": "stream",
     "text": [
      "n = 10 : ratio = 89/55 = 1.6181818181818182\n",
      "n = 11 : ratio = 144/89 = 1.6179775280898876\n",
      "n = 12 : ratio = 233/144 = 1.6180555555555556\n",
      "n = 13 : ratio = 377/233 = 1.6180257510729614\n",
      "n = 14 : ratio = 610/377 = 1.6180371352785146\n",
      "n = 15 : ratio = 987/610 = 1.618032786885246\n",
      "n = 16 : ratio = 1597/987 = 1.618034447821682\n",
      "n = 17 : ratio = 2584/1597 = 1.6180338134001253\n",
      "n = 18 : ratio = 4181/2584 = 1.618034055727554\n",
      "n = 19 : ratio = 6765/4181 = 1.6180339631667064\n",
      "n = 20 : ratio = 10946/6765 = 1.6180339985218033\n",
      "n = 21 : ratio = 17711/10946 = 1.618033985017358\n",
      "n = 22 : ratio = 28657/17711 = 1.6180339901755971\n",
      "n = 23 : ratio = 46368/28657 = 1.618033988205325\n",
      "n = 24 : ratio = 75025/46368 = 1.618033988957902\n",
      "n = 25 : ratio = 121393/75025 = 1.6180339886704431\n",
      "n = 26 : ratio = 196418/121393 = 1.6180339887802426\n",
      "n = 27 : ratio = 317811/196418 = 1.618033988738303\n",
      "n = 28 : ratio = 514229/317811 = 1.6180339887543225\n",
      "n = 29 : ratio = 832040/514229 = 1.6180339887482036\n",
      "n = 30 : ratio = 1346269/832040 = 1.6180339887505408\n",
      "n = 31 : ratio = 2178309/1346269 = 1.6180339887496482\n",
      "n = 32 : ratio = 3524578/2178309 = 1.618033988749989\n",
      "n = 33 : ratio = 5702887/3524578 = 1.618033988749859\n",
      "n = 34 : ratio = 9227465/5702887 = 1.6180339887499087\n",
      "n = 35 : ratio = 14930352/9227465 = 1.6180339887498896\n",
      "n = 36 : ratio = 24157817/14930352 = 1.618033988749897\n",
      "n = 37 : ratio = 39088169/24157817 = 1.618033988749894\n",
      "n = 38 : ratio = 63245986/39088169 = 1.6180339887498951\n",
      "n = 39 : ratio = 102334155/63245986 = 1.6180339887498947\n",
      "n = 40 : ratio = 165580141/102334155 = 1.618033988749895\n",
      "n = 41 : ratio = 267914296/165580141 = 1.618033988749895\n",
      "n = 42 : ratio = 433494437/267914296 = 1.618033988749895\n",
      "n = 43 : ratio = 701408733/433494437 = 1.618033988749895\n",
      "n = 44 : ratio = 1134903170/701408733 = 1.618033988749895\n",
      "n = 45 : ratio = 1836311903/1134903170 = 1.618033988749895\n",
      "n = 46 : ratio = 2971215073/1836311903 = 1.618033988749895\n",
      "n = 47 : ratio = 4807526976/2971215073 = 1.618033988749895\n",
      "n = 48 : ratio = 7778742049/4807526976 = 1.618033988749895\n",
      "n = 49 : ratio = 12586269025/7778742049 = 1.618033988749895\n",
      "n = 50 : ratio = 20365011074/12586269025 = 1.618033988749895\n"
     ]
    }
   ],
   "source": [
    "def fibonacci(n):\n",
    "    a,b = 0,1\n",
    "    f = 0\n",
    "    for k in range(2,n+1):\n",
    "        f = a+b\n",
    "        a, b = b, f\n",
    "    return f\n",
    "\n",
    "for k in range(10,51):\n",
    "    fk1, fk = fibonacci(k+1),fibonacci(k)\n",
    "    print(\"n = {} : ratio = {}/{} = {}\".format(k,fk1,fk,fk1/fk))"
   ]
  },
  {
   "cell_type": "markdown",
   "metadata": {},
   "source": [
    "## Exercise 2\n",
    "\n",
    "Write a Python programme to generate $n$ points $P_1$, $P_2$,... , $P_n$ which are equally placed on\n",
    "the unit circle. Hence find the perimeter of the regular n-gon with verices $P_1$, $P_2$,... , $P_n$. What\n",
    "happends to the perimeter when you increase $n$?\n",
    "Hint: If $P$ is a point on a unit circle, and $\\theta$ is the angle made by the radius $OP$ with the x-axis\n",
    "then the coordinates of $P$ are $(cos (\\theta), sin (\\theta))$."
   ]
  },
  {
   "cell_type": "code",
   "execution_count": 2,
   "metadata": {},
   "outputs": [
    {
     "name": "stdout",
     "output_type": "stream",
     "text": [
      "6.283130669994771\n"
     ]
    }
   ],
   "source": [
    "import math\n",
    "\n",
    "def generate_points(n):\n",
    "    return [(math.cos(2*k*math.pi/n), math.sin(2*k*math.pi/n)) for k in range(n)]\n",
    "\n",
    "def perimeter(n):\n",
    "    points = generate_points(n)\n",
    "    total = 0\n",
    "    for k in range(n-1):\n",
    "        xk1, yk1 = points[k+1][0], points[k+1][1]\n",
    "        xk, yk = points[k][0], points[k][1]\n",
    "        total += math.sqrt((xk1-xk)**2+(yk1-yk)**2)\n",
    "    return total\n",
    "\n",
    "print(perimeter(115000))"
   ]
  },
  {
   "cell_type": "markdown",
   "metadata": {},
   "source": [
    "## Exercise 3\n",
    "\n",
    "Create a user defined function for $\\left(\\begin{array}{l}\n",
    "n \\\\\n",
    "r\n",
    "\\end{array}\\right)= \\frac{n!}{r! (n-r)!}$. Use this function to verify\n",
    "\n",
    "(i) $\\sum_{r=0}^{n}\\left(\\begin{array}{l}\n",
    "n \\\\\n",
    "r\n",
    "\\end{array}\\right)=2^{n}$\n",
    "\n",
    "(ii) for any positive integers $n$, $m$ and $k$,\n",
    "\n",
    "$$\\sum_{r=0}^{n}\\left(\\begin{array}{c}\n",
    "m \\\\\n",
    "r\n",
    "\\end{array}\\right) \\times\\left(\\begin{array}{c}\n",
    "n \\\\\n",
    "k-r\n",
    "\\end{array}\\right)=\\left(\\begin{array}{c}\n",
    "n+m \\\\\n",
    "k\n",
    "\\end{array}\\right)$$"
   ]
  },
  {
   "cell_type": "code",
   "execution_count": 3,
   "metadata": {},
   "outputs": [
    {
     "name": "stdout",
     "output_type": "stream",
     "text": [
      "----- part i -----\n",
      "1024\n",
      "1024\n",
      "----- part ii ----\n",
      "1287\n",
      "1287\n"
     ]
    }
   ],
   "source": [
    "def factorial(n):\n",
    "    f = 1\n",
    "    for k in range(1,n+1):\n",
    "        f *= k\n",
    "    return f\n",
    "\n",
    "def combinations(n,r):\n",
    "    return factorial(n)//factorial(r)//factorial(n-r)\n",
    "\n",
    "print(\"----- part i -----\")\n",
    "n=10\n",
    "print(sum([combinations(n, r) for r in range(n+1)]))\n",
    "print(2**n)\n",
    "\n",
    "\n",
    "print(\"----- part ii ----\")\n",
    "n, m, k = 10, 3, 5\n",
    "\n",
    "print(sum([combinations(m,r)*combinations(n, k-r) for r in range(n+1)]))\n",
    "print(combinations(n+m,k))    \n",
    "    "
   ]
  },
  {
   "cell_type": "markdown",
   "metadata": {},
   "source": [
    "## Exercise 4\n",
    "\n",
    "Use ‘sample’ function from the ‘random’ module to select two random numbers between 1\n",
    "and 6. This can be thought of as the numbers of the faces when two six-faced dice are tossed\n",
    "together. Repeat this experiment 1000 times. Count how many times the sum of numbers\n",
    "on the faces of both the dice is more than 8. Can you find out what is the probability that the\n",
    "sum of numbers on the faces is more than 8?"
   ]
  },
  {
   "cell_type": "code",
   "execution_count": 4,
   "metadata": {},
   "outputs": [
    {
     "name": "stdout",
     "output_type": "stream",
     "text": [
      "Probability : 0.133533\n"
     ]
    }
   ],
   "source": [
    "import random\n",
    "\n",
    "n=1000000\n",
    "number_of_8 = 0\n",
    "\n",
    "for k in range(n):\n",
    "    results = random.sample(range(1,7), 2)\n",
    "    if sum(results)==8:\n",
    "        number_of_8 +=1\n",
    "\n",
    "print(\"Probability : {}\".format(number_of_8/n))\n"
   ]
  },
  {
   "cell_type": "code",
   "execution_count": null,
   "metadata": {},
   "outputs": [],
   "source": []
  }
 ],
 "metadata": {
  "kernelspec": {
   "display_name": "Python 3",
   "language": "python",
   "name": "python3"
  },
  "language_info": {
   "codemirror_mode": {
    "name": "ipython",
    "version": 3
   },
   "file_extension": ".py",
   "mimetype": "text/x-python",
   "name": "python",
   "nbconvert_exporter": "python",
   "pygments_lexer": "ipython3",
   "version": "3.8.5"
  }
 },
 "nbformat": 4,
 "nbformat_minor": 4
}
